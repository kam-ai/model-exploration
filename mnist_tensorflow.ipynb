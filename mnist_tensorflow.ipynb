{
 "cells": [
  {
   "cell_type": "markdown",
   "metadata": {},
   "source": [
    "# Analyse MNIST with tensorflow\n",
    "Using tensorflow and keras we can use Convolutional Neural Networks to predict what number we see.\n",
    "\n",
    "Read more about [keras](https://keras.io/)\n",
    "\n",
    "Read more about [tensorflow](https://www.tensorflow.org/)\n",
    "\n"
   ]
  },
  {
   "cell_type": "markdown",
   "metadata": {},
   "source": [
    "### Create Data"
   ]
  },
  {
   "cell_type": "code",
   "execution_count": 1,
   "metadata": {},
   "outputs": [
    {
     "name": "stderr",
     "output_type": "stream",
     "text": [
      "Using TensorFlow backend.\n"
     ]
    }
   ],
   "source": [
    "import numpy as np\n",
    "from keras.datasets import mnist\n",
    "from keras.utils import to_categorical\n",
    "from keras.callbacks import TensorBoard\n",
    "\n",
    "\n",
    "(X_train, y_train), (X_test, y_test) = mnist.load_data()\n",
    "X_train = np.expand_dims(X_train, axis=3)\n",
    "X_test = np.expand_dims(X_test, axis=3)\n",
    "\n",
    "y_train = to_categorical(y_train)\n",
    "y_test = to_categorical(y_test)\n"
   ]
  },
  {
   "cell_type": "markdown",
   "metadata": {},
   "source": [
    "## Create model\n",
    "There are many things to change here, loss function, optimizer, number of hidden layers, size of each layer, activation function etc...\n",
    "\n",
    "Model copied from [Here](https://towardsdatascience.com/building-a-convolutional-neural-network-cnn-in-keras-329fbbadc5f5). There you can read about more details."
   ]
  },
  {
   "cell_type": "code",
   "execution_count": 23,
   "metadata": {},
   "outputs": [
    {
     "name": "stdout",
     "output_type": "stream",
     "text": [
      "Model: \"sequential_11\"\n",
      "_________________________________________________________________\n",
      "Layer (type)                 Output Shape              Param #   \n",
      "=================================================================\n",
      "conv2d_40 (Conv2D)           (None, 26, 26, 64)        640       \n",
      "_________________________________________________________________\n",
      "conv2d_41 (Conv2D)           (None, 24, 24, 32)        18464     \n",
      "_________________________________________________________________\n",
      "flatten_11 (Flatten)         (None, 18432)             0         \n",
      "_________________________________________________________________\n",
      "dense_11 (Dense)             (None, 10)                184330    \n",
      "=================================================================\n",
      "Total params: 203,434\n",
      "Trainable params: 203,434\n",
      "Non-trainable params: 0\n",
      "_________________________________________________________________\n",
      "None\n"
     ]
    }
   ],
   "source": [
    "from keras.models import Sequential\n",
    "from keras.layers import Dense, Conv2D, Flatten\n",
    "from keras.optimizers import Adam, SGD\n",
    "\n",
    "model = Sequential()\n",
    "model.add(Conv2D(64, kernel_size=3, activation='relu', input_shape=(28,28,1)))\n",
    "model.add(Conv2D(32, kernel_size=3, activation='relu'))\n",
    "model.add(Flatten())\n",
    "model.add(Dense(10, activation='softmax'))\n",
    "\n",
    "def generate_adam_optimizer():\n",
    "    learning_rate=0.001\n",
    "    Adam(lr=learning_rate)\n",
    "    return Adam\n",
    "\n",
    "def generate_SGD_optimizer():\n",
    "    learning_rate=0.001\n",
    "    return SGD(lr=learning_rate)\n",
    "\n",
    "\n",
    "model.compile(optimizer=optimizer, loss='categorical_crossentropy', metrics=['accuracy'])\n",
    "print(model.summary())"
   ]
  },
  {
   "cell_type": "markdown",
   "metadata": {},
   "source": [
    "## Train model"
   ]
  },
  {
   "cell_type": "code",
   "execution_count": null,
   "metadata": {},
   "outputs": [
    {
     "name": "stdout",
     "output_type": "stream",
     "text": [
      "Train on 60000 samples, validate on 10000 samples\n",
      "Epoch 1/100\n",
      "60000/60000 [==============================] - 26s 441us/step - loss: 0.8243 - acc: 0.8695 - val_loss: 0.2684 - val_acc: 0.9311\n",
      "Epoch 2/100\n",
      "60000/60000 [==============================] - 27s 456us/step - loss: 0.2062 - acc: 0.9430 - val_loss: 0.1646 - val_acc: 0.9537\n",
      "Epoch 3/100\n",
      "60000/60000 [==============================] - 28s 468us/step - loss: 0.1391 - acc: 0.9609 - val_loss: 0.1393 - val_acc: 0.9608\n",
      "Epoch 4/100\n",
      "60000/60000 [==============================] - 27s 443us/step - loss: 0.1081 - acc: 0.9695 - val_loss: 0.1073 - val_acc: 0.9688\n",
      "Epoch 5/100\n",
      "60000/60000 [==============================] - 26s 428us/step - loss: 0.0904 - acc: 0.9739 - val_loss: 0.0967 - val_acc: 0.9722\n",
      "Epoch 6/100\n",
      "60000/60000 [==============================] - 26s 441us/step - loss: 0.0774 - acc: 0.9778 - val_loss: 0.0946 - val_acc: 0.9740\n",
      "Epoch 7/100\n",
      "60000/60000 [==============================] - 26s 429us/step - loss: 0.0684 - acc: 0.9802 - val_loss: 0.0871 - val_acc: 0.9742\n",
      "Epoch 8/100\n",
      "60000/60000 [==============================] - 26s 430us/step - loss: 0.0604 - acc: 0.9826 - val_loss: 0.0816 - val_acc: 0.9758\n",
      "Epoch 9/100\n",
      "60000/60000 [==============================] - 26s 429us/step - loss: 0.0543 - acc: 0.9843 - val_loss: 0.0824 - val_acc: 0.9767\n",
      "Epoch 10/100\n",
      "60000/60000 [==============================] - 26s 428us/step - loss: 0.0498 - acc: 0.9859 - val_loss: 0.0793 - val_acc: 0.9768\n",
      "Epoch 11/100\n",
      "60000/60000 [==============================] - 26s 429us/step - loss: 0.0454 - acc: 0.9868 - val_loss: 0.0762 - val_acc: 0.9763\n",
      "Epoch 12/100\n",
      "60000/60000 [==============================] - 26s 430us/step - loss: 0.0418 - acc: 0.9881 - val_loss: 0.0826 - val_acc: 0.9762\n",
      "Epoch 13/100\n",
      "60000/60000 [==============================] - 26s 430us/step - loss: 0.0387 - acc: 0.9885 - val_loss: 0.0759 - val_acc: 0.9782\n",
      "Epoch 14/100\n",
      "60000/60000 [==============================] - 26s 432us/step - loss: 0.0357 - acc: 0.9897 - val_loss: 0.0735 - val_acc: 0.9785\n",
      "Epoch 15/100\n",
      "60000/60000 [==============================] - 25s 422us/step - loss: 0.0330 - acc: 0.9908 - val_loss: 0.0744 - val_acc: 0.9777\n",
      "Epoch 16/100\n",
      "60000/60000 [==============================] - 26s 427us/step - loss: 0.0307 - acc: 0.9916 - val_loss: 0.0729 - val_acc: 0.9802\n",
      "Epoch 17/100\n",
      "  736/60000 [..............................] - ETA: 23s - loss: 0.0227 - acc: 0.9932"
     ]
    }
   ],
   "source": [
    "import datetime\n",
    "\n",
    "x = datetime.datetime.now()\n",
    "epochs=100\n",
    "tensorboard= TensorBoard(log_dir='logs/%s-%s' % (str(x.strftime(\"%x\")), str(x.strftime(\"%f\"))))\n",
    "model.fit(X_train, y_train, validation_data=(X_test, y_test), epochs=epochs, callbacks=[tensorboard])"
   ]
  },
  {
   "cell_type": "markdown",
   "metadata": {},
   "source": [
    "## Evaluate model"
   ]
  },
  {
   "cell_type": "code",
   "execution_count": null,
   "metadata": {},
   "outputs": [],
   "source": [
    "import matplotlib.pyplot as plt\n",
    "from sklearn.metrics import accuracy_score\n",
    "\n",
    "prediction = model.predict(X_test)\n",
    "pred = np.argmax(prediction, axis=1)\n",
    "\n",
    "\n",
    "accuracy_score(pred, np.argmax(y_test, axis=1))"
   ]
  },
  {
   "cell_type": "markdown",
   "metadata": {},
   "source": [
    "### Show the images togehter with their prediction"
   ]
  },
  {
   "cell_type": "code",
   "execution_count": null,
   "metadata": {},
   "outputs": [],
   "source": [
    "nr_samples = 15\n",
    "for i in range(nr_samples):\n",
    "    print('Below is %i' % pred[i])\n",
    "    plt.imshow(X_test[i, :, :,0])\n",
    "    plt.show()"
   ]
  },
  {
   "cell_type": "code",
   "execution_count": null,
   "metadata": {},
   "outputs": [],
   "source": []
  }
 ],
 "metadata": {
  "kernelspec": {
   "display_name": "Python 3",
   "language": "python",
   "name": "python3"
  },
  "language_info": {
   "codemirror_mode": {
    "name": "ipython",
    "version": 3
   },
   "file_extension": ".py",
   "mimetype": "text/x-python",
   "name": "python",
   "nbconvert_exporter": "python",
   "pygments_lexer": "ipython3",
   "version": "3.6.5"
  }
 },
 "nbformat": 4,
 "nbformat_minor": 2
}
